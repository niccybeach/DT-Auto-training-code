{
 "cells": [
  {
   "cell_type": "code",
   "execution_count": 5,
   "id": "e8a7f46b",
   "metadata": {
    "scrolled": false
   },
   "outputs": [
    {
     "name": "stdout",
     "output_type": "stream",
     "text": [
      "729\n",
      "[[[0.1], [0.1], [0.001], [0.1], [0.5], [100]]]\n"
     ]
    }
   ],
   "source": [
    "import numpy as np\n",
    "import itertools\n",
    "\n",
    "CoR = [0.1, 0.5, 0.9]\n",
    "CoF = [0.1, 0.5, 0.9]\n",
    "CoRF = [0.001, 0.005, 0.009]\n",
    "d_t_n = [0.1, 0.5, 0.9]\n",
    "s_t_n = [0.1, 0.5, 0.9]\n",
    "k_n = [100, 1000, 10000]\n",
    "\n",
    "CoR_n = [[x] for x in CoR]\n",
    "CoF_n = [[x] for x in CoF]\n",
    "CoRF_n = [[x] for x in CoRF]\n",
    "d_t_n_n = [[x] for x in d_t_n]\n",
    "s_t_n_n = [[x] for x in s_t_n]\n",
    "k_n_n = [[x] for x in k_n]\n",
    "\n",
    "combinations = [list(comb) for comb in itertools.product(CoR_n, CoF_n, CoRF_n, d_t_n_n, s_t_n_n, k_n_n)]\n",
    "print(len(combinations))\n",
    "\n",
    "# Initialize an empty new array\n",
    "new_array = []\n",
    "\n",
    "# Initialize the current_row_index variable or retrieve it from cell metadata\n",
    "if 'current_row_index' not in locals():\n",
    "    current_row_index = 0\n",
    "\n",
    "# Define the combinations list  # Replace with your data\n",
    "\n",
    "# Function to append the next row to a new array\n",
    "def append_next_row():\n",
    "    global current_row_index\n",
    "    if current_row_index < len(combinations):\n",
    "        row_to_append = combinations[current_row_index]\n",
    "        new_array.append(row_to_append)\n",
    "        current_row_index += 1\n",
    "\n",
    "# Call the append_next_row function to append the next row\n",
    "append_next_row()\n",
    "\n",
    "# Update the cell metadata with the new current_row_index\n",
    "get_ipython().user_ns['current_row_index'] = current_row_index\n",
    "\n",
    "# Print the new array\n",
    "print(new_array)\n"
   ]
  },
  {
   "cell_type": "code",
   "execution_count": 3,
   "id": "7c5142ac",
   "metadata": {},
   "outputs": [
    {
     "name": "stdout",
     "output_type": "stream",
     "text": [
      "Stored 'combinations' (list)\n"
     ]
    }
   ],
   "source": [
    "%store combinations"
   ]
  },
  {
   "cell_type": "code",
   "execution_count": 14,
   "id": "32e4701c",
   "metadata": {
    "scrolled": false
   },
   "outputs": [
    {
     "name": "stdout",
     "output_type": "stream",
     "text": [
      "CoR:\n",
      "[0.1, 0.5, 0.9]\n",
      "CoF:\n",
      "[0.1, 0.5, 0.9]\n",
      "CoRF:\n",
      "[0.001, 0.005, 0.009]\n",
      "d_t_n:\n",
      "[0.1, 0.5, 0.9]\n",
      "s_t_n:\n",
      "[0.1, 0.5, 0.9]\n",
      "k_n:\n",
      "[100, 1000, 10000]\n"
     ]
    }
   ],
   "source": [
    "params = ['CoR:',CoR,\n",
    "'CoF:',CoF,\n",
    "'CoRF:',CoRF,\n",
    "'d_t_n:',d_t_n,\n",
    "'s_t_n:',s_t_n,\n",
    "'k_n:',k_n]\n",
    "for i in params:\n",
    "    print(i)"
   ]
  },
  {
   "cell_type": "code",
   "execution_count": null,
   "id": "1971abc6",
   "metadata": {},
   "outputs": [],
   "source": [
    "with open('C:/Users/nickp/PhysTwin+bucket.rev1/PhysTwin+bucket.rev1.mfx', 'r') as file:\n",
    "    mfx_lines = file.readlines()\n",
    "    \n",
    "def replace_value(line_number, new_value):\n",
    "    parts = mfx_lines[line_number].split('=')\n",
    "    if len(parts) == 2:\n",
    "        parts[1] = str(new_value)\n",
    "        mfx_lines[line_number] = '= '.join(parts) + '\\n'\n",
    "\n",
    "# Replace values in the MFX file\n",
    "\n",
    "replace_value(224, new_array[0][0][0])   #cor\n",
    "replace_value(246, new_array[0][1][0])  #cof\n",
    "replace_value(247, new_array[0][2][0])  #corf\n",
    "replace_value(230, new_array[0][3][0]) #d_t_n\n",
    "replace_value(244, new_array[0][4][0]) #s_t_n\n",
    "replace_value(242, new_array[0][5][0]) #kn\n",
    "\n",
    "# Write the updated MFX content back to the file # will make it the actual file later :)\n",
    "with open('test 1', 'w') as file:\n",
    "    file.writelines(mfx_lines)"
   ]
  },
  {
   "cell_type": "code",
   "execution_count": null,
   "id": "d009c6a0",
   "metadata": {},
   "outputs": [],
   "source": []
  },
  {
   "cell_type": "code",
   "execution_count": null,
   "id": "2ab28413",
   "metadata": {},
   "outputs": [],
   "source": []
  },
  {
   "cell_type": "code",
   "execution_count": null,
   "id": "ab69cd57",
   "metadata": {},
   "outputs": [],
   "source": []
  }
 ],
 "metadata": {
  "kernelspec": {
   "display_name": "Python 3 (ipykernel)",
   "language": "python",
   "name": "python3"
  },
  "language_info": {
   "codemirror_mode": {
    "name": "ipython",
    "version": 3
   },
   "file_extension": ".py",
   "mimetype": "text/x-python",
   "name": "python",
   "nbconvert_exporter": "python",
   "pygments_lexer": "ipython3",
   "version": "3.9.12"
  }
 },
 "nbformat": 4,
 "nbformat_minor": 5
}
